{
 "cells": [
  {
   "cell_type": "markdown",
   "metadata": {},
   "source": [
    "# Web Scraping from Wordpress"
   ]
  },
  {
   "cell_type": "markdown",
   "metadata": {},
   "source": [
    "I was testing out some Python code to do webscraping, so I compiled the code here for web scrapping or grabbing content from the internet. "
   ]
  },
  {
   "cell_type": "code",
   "execution_count": 1,
   "metadata": {},
   "outputs": [],
   "source": [
    "## Import libraries\n",
    "import urllib.request\n",
    "from bs4 import BeautifulSoup as bs\n",
    "import os\n",
    "import requests\n",
    "\n",
    "from pandas import Series, DataFrame\n",
    "import pandas as pd\n",
    "import numpy as np \n",
    "\n",
    "import codecs"
   ]
  },
  {
   "cell_type": "code",
   "execution_count": 3,
   "metadata": {},
   "outputs": [
    {
     "name": "stdout",
     "output_type": "stream",
     "text": [
      "1\n",
      "2\n",
      "3\n",
      "4\n",
      "5\n",
      "6\n",
      "7\n",
      "8\n",
      "9\n",
      "10\n",
      "11\n"
     ]
    }
   ],
   "source": [
    "## Start of the process to grab all content from a website. \n",
    "\n",
    "# First: get all main pages from the website. This website has 11 pages. \n",
    "webpages = []\n",
    "for i in range(1,12):\n",
    "    site = urllib.request.urlopen('http://www.example.org/page/' + str(i)).read()\n",
    "    print(i)\n",
    "    webpages.append(site) "
   ]
  },
  {
   "cell_type": "code",
   "execution_count": 4,
   "metadata": {},
   "outputs": [
    {
     "name": "stdout",
     "output_type": "stream",
     "text": [
      "['http://www.defynity.org/back-in-kansas/', 'http://www.defynity.org/the-northeast-darkness-and-chaos-and-light/', 'http://www.defynity.org/the-northeast-rogues-on-a-tour/', 'http://www.defynity.org/socioemotional-learning-activities/', 'http://www.defynity.org/james-marcia-on-decisions/', 'http://www.defynity.org/beyond-beaches-in-miami/', 'http://www.defynity.org/dissertation-marathon/', 'http://www.defynity.org/being-25/', 'http://www.defynity.org/nature-and-nurture/', 'http://www.defynity.org/a-vietnamese-american-funeral/', 'http://www.defynity.org/boston-weekend-retreat/', 'http://www.defynity.org/goodness-of-fit/', 'http://www.defynity.org/grandma-the-hair-model/', 'http://www.defynity.org/who-am-i-the-policeman-asked/', 'http://www.defynity.org/a-portrait-of-a-portrait/', 'http://www.defynity.org/emotional-control-v-mind-control/', 'http://www.defynity.org/heartbreak-heard-around-the-world/', 'http://www.defynity.org/my-fire-monkey/', 'http://www.defynity.org/the-zeroth-law-of-robotics/', 'http://www.defynity.org/manhattan-ks-the-little-apple/', 'http://www.defynity.org/historical-healing-in-eureka-springs/', 'http://www.defynity.org/on-the-arkansas-art-trail/', 'http://www.defynity.org/ukulele-lesson-8-happy-together/', 'http://www.defynity.org/a-poet-in-the-rain/', 'http://www.defynity.org/my-dad-the-handyman/', 'http://www.defynity.org/my-adventures-with-winnie-the-pooh/', 'http://www.defynity.org/summer-tv-binge/', 'http://www.defynity.org/treasures-of-central-europe/', 'http://www.defynity.org/days-of-life/', 'http://www.defynity.org/descent-into-dystopia/', 'http://www.defynity.org/asimovs-robot-series/', 'http://www.defynity.org/what-is-motivation/', 'http://www.defynity.org/writers-on-writing/', 'http://www.defynity.org/june-15-playlist/', 'http://www.defynity.org/i-love-spotify/', 'http://www.defynity.org/wild-animals/', 'http://www.defynity.org/baby-pictures/', 'http://www.defynity.org/mitis-oasis/', 'http://www.defynity.org/summer-garage-sales/', 'http://www.defynity.org/first-sentence/', 'http://www.defynity.org/law-and-order-mcdaniel/', 'http://www.defynity.org/thoughts-into-reality/', 'http://www.defynity.org/what-is-the-origin-of-interest/', 'http://www.defynity.org/lifes-riches/', 'http://www.defynity.org/are-we-all-trying-to-find-our-way-home/', 'http://www.defynity.org/ukulele-lesson-7-falling-slowly/', 'http://www.defynity.org/the-history-of-monkey-t/', 'http://www.defynity.org/kims-cake/', 'http://www.defynity.org/my-favorite-memory-of-grandma/', 'http://www.defynity.org/we-all-change/', 'http://www.defynity.org/ukulele-lesson-6-playing-melodies/', 'http://www.defynity.org/ukulele-lesson-5-can-you-feel-the-love-tonight/', 'http://www.defynity.org/ukulele-lesson-4-sway/', 'http://www.defynity.org/ukulele-lesson-3-fingerpicking/', 'http://www.defynity.org/ukulele-lesson-2/']\n",
      "['Monkey, I’ve Got a Feeling We’re Back in Kansas', 'The Northeast: Darkness and Chaos and Light', 'The Northeast: Rogues on a Tour', 'Socioemotional Learning Activities', 'James Marcia on Decisions', 'Beyond Beaches in Miami', 'Dissertation Marathon', 'Being 25', 'Frederick Crews on Nature and Nurture', 'A Vietnamese-American Funeral', 'Boston Weekend Retreat', 'Goodness of Fit', 'Grandma the Hair Model', 'Who am I? the Policeman Asked', 'A Portrait of a Portrait', 'Emotional Control v Mind Control', 'Heartbreak Heard Around the World', 'My Fire Monkey', 'The Zeroth Law of Robotics', 'Manhattan, KS: The Little Apple', 'Historical Healing in Eureka Springs', 'On the Arkansas Art Trail', 'Ukulele Lesson 8: Happy Together', 'Randall Jarrell, A Poet in the Rain', 'My dad, the handyman', 'My Adventures with Winnie-the-Pooh', 'Summer TV Binge', 'Treasures of Central Europe', 'Annie Dillard on Days of Life', 'Descent into Dystopia', 'Asimov’s Robot Series', 'What is Motivation?', 'Writers on Writing', 'June ’15 Playlist', 'I Love Spotify', 'Wild Animals', 'Baby Pictures', 'MitiS – Oasis', 'Summer Garage Sales', 'Jacques Barzun on First Sentence', 'Law and Order: McDaniel', 'Hamlet on Reality', 'What is the Origin of Interest?', 'Rainer Maria Rilke on Life’s Riches', 'Are We All Trying to Find Our Way Home?', 'Ukulele Lesson 7: Falling Slowly', 'The History of Monkey T.', 'Kim’s Cake', 'My Favorite Memory of Grandma', 'The Eleventh Doctor on Change', 'Ukulele Lesson 6: Playing Melodies', 'Ukulele Lesson 5: Can You Feel the Love Tonight', 'Ukulele Lesson 4: Sway', 'Ukulele Lesson 3: Fingerpicking', 'Ukulele Lesson 2: Intermediate Strumming']\n"
     ]
    }
   ],
   "source": [
    "# For each page in the webpage list, find all the page content in the div class=\"post_text_inner\".  \n",
    "all_content = []\n",
    "for page in webpages:\n",
    "    page_soup = bs(page,'lxml')\n",
    "    page_content = page_soup.find_all(\"div\",attrs={\"post_text_inner\"})\n",
    "    all_content.append(page_content)\n",
    "\n",
    "# Flatten the list \n",
    "all_content = [post for group in all_content for post in group]   \n",
    "\n",
    "# Loop over the content and group all the links and titles. The outcome is a list of all urls and titles of posts.  \n",
    "all_url = []\n",
    "all_title = []\n",
    "for post in all_content:\n",
    "    links = post.findAll(\"a\")\n",
    "    link = links[0]\n",
    "    url = link['href']\n",
    "    title = link['title']\n",
    "    all_url.append(url)\n",
    "    all_title.append(title)\n",
    "print(all_url)\n",
    "print(all_title)"
   ]
  },
  {
   "cell_type": "code",
   "execution_count": 5,
   "metadata": {},
   "outputs": [],
   "source": [
    "# Create a dataframe with Titles and Post links\n",
    "url_dat = pd.DataFrame(all_url)\n",
    "title_dat = pd.DataFrame(all_title)\n",
    "\n",
    "website_dat = pd.concat([title_dat,url_dat],axis=1,join_axes=[title_dat.index])\n",
    "\n",
    "website_dat.columns = ['Post Title','Hyperlink']\n",
    "\n",
    "# Export as csv file for reference \n",
    "website_dat.to_csv('../Data/website_data.csv')"
   ]
  },
  {
   "cell_type": "code",
   "execution_count": 6,
   "metadata": {},
   "outputs": [
    {
     "name": "stdout",
     "output_type": "stream",
     "text": [
      "Grabbing content from: http://www.defynity.org/back-in-kansas/\n",
      "Saving content as: postcontent0\n",
      "Grabbing content from: http://www.defynity.org/the-northeast-darkness-and-chaos-and-light/\n",
      "Saving content as: postcontent1\n",
      "Grabbing content from: http://www.defynity.org/the-northeast-rogues-on-a-tour/\n",
      "Saving content as: postcontent2\n",
      "Grabbing content from: http://www.defynity.org/socioemotional-learning-activities/\n",
      "Saving content as: postcontent3\n",
      "Grabbing content from: http://www.defynity.org/james-marcia-on-decisions/\n",
      "Saving content as: postcontent4\n",
      "Grabbing content from: http://www.defynity.org/beyond-beaches-in-miami/\n",
      "Saving content as: postcontent5\n",
      "Grabbing content from: http://www.defynity.org/dissertation-marathon/\n",
      "Saving content as: postcontent6\n",
      "Grabbing content from: http://www.defynity.org/being-25/\n",
      "Saving content as: postcontent7\n",
      "Grabbing content from: http://www.defynity.org/nature-and-nurture/\n",
      "Saving content as: postcontent8\n",
      "Grabbing content from: http://www.defynity.org/a-vietnamese-american-funeral/\n",
      "Saving content as: postcontent9\n",
      "Grabbing content from: http://www.defynity.org/boston-weekend-retreat/\n",
      "Saving content as: postcontent10\n",
      "Grabbing content from: http://www.defynity.org/goodness-of-fit/\n",
      "Saving content as: postcontent11\n",
      "Grabbing content from: http://www.defynity.org/grandma-the-hair-model/\n",
      "Saving content as: postcontent12\n",
      "Grabbing content from: http://www.defynity.org/who-am-i-the-policeman-asked/\n",
      "Saving content as: postcontent13\n",
      "Grabbing content from: http://www.defynity.org/a-portrait-of-a-portrait/\n",
      "Saving content as: postcontent14\n",
      "Grabbing content from: http://www.defynity.org/emotional-control-v-mind-control/\n",
      "Saving content as: postcontent15\n",
      "Grabbing content from: http://www.defynity.org/heartbreak-heard-around-the-world/\n",
      "Saving content as: postcontent16\n",
      "Grabbing content from: http://www.defynity.org/my-fire-monkey/\n",
      "Saving content as: postcontent17\n",
      "Grabbing content from: http://www.defynity.org/the-zeroth-law-of-robotics/\n",
      "Saving content as: postcontent18\n",
      "Grabbing content from: http://www.defynity.org/manhattan-ks-the-little-apple/\n",
      "Saving content as: postcontent19\n",
      "Grabbing content from: http://www.defynity.org/historical-healing-in-eureka-springs/\n",
      "Saving content as: postcontent20\n",
      "Grabbing content from: http://www.defynity.org/on-the-arkansas-art-trail/\n",
      "Saving content as: postcontent21\n",
      "Grabbing content from: http://www.defynity.org/ukulele-lesson-8-happy-together/\n",
      "Saving content as: postcontent22\n",
      "Grabbing content from: http://www.defynity.org/a-poet-in-the-rain/\n",
      "Saving content as: postcontent23\n",
      "Grabbing content from: http://www.defynity.org/my-dad-the-handyman/\n",
      "Saving content as: postcontent24\n",
      "Grabbing content from: http://www.defynity.org/my-adventures-with-winnie-the-pooh/\n",
      "Saving content as: postcontent25\n",
      "Grabbing content from: http://www.defynity.org/summer-tv-binge/\n",
      "Saving content as: postcontent26\n",
      "Grabbing content from: http://www.defynity.org/treasures-of-central-europe/\n",
      "Saving content as: postcontent27\n",
      "Grabbing content from: http://www.defynity.org/days-of-life/\n",
      "Saving content as: postcontent28\n",
      "Grabbing content from: http://www.defynity.org/descent-into-dystopia/\n",
      "Saving content as: postcontent29\n",
      "Grabbing content from: http://www.defynity.org/asimovs-robot-series/\n",
      "Saving content as: postcontent30\n",
      "Grabbing content from: http://www.defynity.org/what-is-motivation/\n",
      "Saving content as: postcontent31\n",
      "Grabbing content from: http://www.defynity.org/writers-on-writing/\n",
      "Saving content as: postcontent32\n",
      "Grabbing content from: http://www.defynity.org/june-15-playlist/\n",
      "Saving content as: postcontent33\n",
      "Grabbing content from: http://www.defynity.org/i-love-spotify/\n",
      "Saving content as: postcontent34\n",
      "Grabbing content from: http://www.defynity.org/wild-animals/\n",
      "Saving content as: postcontent35\n",
      "Grabbing content from: http://www.defynity.org/baby-pictures/\n",
      "Saving content as: postcontent36\n",
      "Grabbing content from: http://www.defynity.org/mitis-oasis/\n",
      "Saving content as: postcontent37\n",
      "Grabbing content from: http://www.defynity.org/summer-garage-sales/\n",
      "Saving content as: postcontent38\n",
      "Grabbing content from: http://www.defynity.org/first-sentence/\n",
      "Saving content as: postcontent39\n",
      "Grabbing content from: http://www.defynity.org/law-and-order-mcdaniel/\n",
      "Saving content as: postcontent40\n",
      "Grabbing content from: http://www.defynity.org/thoughts-into-reality/\n",
      "Saving content as: postcontent41\n",
      "Grabbing content from: http://www.defynity.org/what-is-the-origin-of-interest/\n",
      "Saving content as: postcontent42\n",
      "Grabbing content from: http://www.defynity.org/lifes-riches/\n",
      "Saving content as: postcontent43\n",
      "Grabbing content from: http://www.defynity.org/are-we-all-trying-to-find-our-way-home/\n",
      "Saving content as: postcontent44\n",
      "Grabbing content from: http://www.defynity.org/ukulele-lesson-7-falling-slowly/\n",
      "Saving content as: postcontent45\n",
      "Grabbing content from: http://www.defynity.org/the-history-of-monkey-t/\n",
      "Saving content as: postcontent46\n",
      "Grabbing content from: http://www.defynity.org/kims-cake/\n",
      "Saving content as: postcontent47\n",
      "Grabbing content from: http://www.defynity.org/my-favorite-memory-of-grandma/\n",
      "Saving content as: postcontent48\n",
      "Grabbing content from: http://www.defynity.org/we-all-change/\n",
      "Saving content as: postcontent49\n",
      "Grabbing content from: http://www.defynity.org/ukulele-lesson-6-playing-melodies/\n",
      "Saving content as: postcontent50\n",
      "Grabbing content from: http://www.defynity.org/ukulele-lesson-5-can-you-feel-the-love-tonight/\n",
      "Saving content as: postcontent51\n",
      "Grabbing content from: http://www.defynity.org/ukulele-lesson-4-sway/\n",
      "Saving content as: postcontent52\n",
      "Grabbing content from: http://www.defynity.org/ukulele-lesson-3-fingerpicking/\n",
      "Saving content as: postcontent53\n",
      "Grabbing content from: http://www.defynity.org/ukulele-lesson-2/\n",
      "Saving content as: postcontent54\n"
     ]
    }
   ],
   "source": [
    "# The big loop that generate post content from the entire website. Loop over pages, grab content, and save each post content as text files.\n",
    "relativepath = \"../Data\"\n",
    "\n",
    "for url in all_url:\n",
    "    post = urllib.request.urlopen(url).read()\n",
    "    print('Grabbing content from: '+ url)\n",
    "    soup = bs(post,'lxml')\n",
    "    title = soup.find(\"title\").text\n",
    "    body = soup.find(\"div\",class_=\"post_content\").text\n",
    "    postcontent = title + body\n",
    "    index = str(all_url.index(url))\n",
    "    pastename = 'postcontent' + index + '.txt'\n",
    "    filename = os.path.join(relativepath,pastename)\n",
    "    with codecs.open(filename,'w','utf-8') as f:\n",
    "        f.write(postcontent)\n",
    "        f.close()\n",
    "    print(\"Saving content as: postcontent\" + index)"
   ]
  }
 ],
 "metadata": {
  "kernelspec": {
   "display_name": "Python 3",
   "language": "python",
   "name": "python3"
  },
  "language_info": {
   "codemirror_mode": {
    "name": "ipython",
    "version": 3
   },
   "file_extension": ".py",
   "mimetype": "text/x-python",
   "name": "python",
   "nbconvert_exporter": "python",
   "pygments_lexer": "ipython3",
   "version": "3.6.4"
  }
 },
 "nbformat": 4,
 "nbformat_minor": 2
}
